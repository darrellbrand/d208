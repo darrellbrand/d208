{
 "cells": [
  {
   "cell_type": "markdown",
   "id": "03aa4d12-0e32-4adf-8cb6-a2232aeeee7f",
   "metadata": {},
   "source": [
    "\n",
    "## A.\n",
    "\n",
    "### 1.\n",
    "How can the organization best allocate resources to direct sales, improve service provision, and or client facing services in order to minimize 'Churn' ?\n",
    "\n",
    "### 2.\n",
    "\n",
    "The goals of this data analysis are to indentify correlations and relationships in the data set that are actionable and have a positive correlation with 'Churn'."
   ]
  },
  {
   "cell_type": "markdown",
   "id": "bf3eb620-c1b1-4a0e-aff1-2d451e585807",
   "metadata": {},
   "source": [
    "## B.\n",
    "### 1.\n",
    "\n",
    "Observations are independent:\n",
    "\n",
    "Logistic regression assumes the observations to be independent of each other and independent of repetitive measurement. Any individual should not be measured more than once and neither should it be taken in for the model.\n",
    "\n",
    "No Multicollinearity:\n",
    "It is essential that the independent variables are not too highly correlated with each other, a condition known as multicollinearity. This can be checked using:\n",
    "Correlation matrices, where correlation coefficients should ideally be below 0.80.\n",
    "\n",
    "No extreme outliers:\n",
    "Logistic regression assumes that there are no extreme outliers or any external observations that influence the data that goes into the model. \n",
    "Cook’s distance is an effective way to rule out the outliers and external observations from a dataset. You can choose to eradicate those from the \n",
    "data or decide to replace them with a mean or median. You can also let the outliers be, but remember to report those in the regression results. \n",
    "\n",
    "Sample size:\n",
    "The logistic regression assumes that the sample size from which the observations are drawn is large enough to give reliable conclusions for the regression model.\n",
    "\n",
    "https://www.voxco.com/blog/logistic-regression-assumptions/\n",
    "\n",
    "### 2.\n",
    " One benefit of python is that it is an interpreted language. There is no compile time, so it is much quicker for iterative processes such as the backward elimination process when we are reducing the regression model and reducing independent variables.\n",
    "\n",
    " Another benefit of python language is that it has many libraries and packages that can automate the regression model creation process and simplify it to just a few lines of code. When it is time to compare the reduced model, the python packages can help us quickly compare the models by showing us important regression model metrics such as the p values of coefficients\n",
    "\n",
    " ### 3 .\n",
    "Logistic regression is an appropriate technique to use for analyzing the research question in part 1 because the question we are answering involves predicting a binary categorical variable 'Churn'. Another reason Logistic regression is an appropriate technique is because part of the question involves identifying correlations between multiple predictor variables and one categorical dependent variable.\n",
    "\n",
    "\n",
    "## C.\n",
    "### 1.\n",
    "\n",
    "My data cleaning goals are as follows:\n",
    "\n",
    "Identify any duplicate rows and remove them. I will do this by comparing rows by 'CaseOrder'. If there are any duplicates I will drop one of the duplicate rows.\n",
    "\n",
    "Identify any missing values. I will use  the df.isna() function to list columns with missing values. I will impute the values with different techniques\n",
    "depending on the data type and context of each column.\n",
    "\n",
    "Identify any outliers. I will use z-scores, IQR tests and the describe() method to identify outliers. I will first use the describe() function to get an overview, and if further analysis is needed I can use z-scores and IQR tests to further identify outliers. If a value is clearly an outlier, it can be imputed from other values or the row dropped.\n",
    "\n",
    "## See cells below for further explanation of each step and annotated code.\n",
    "\n"
   ]
  },
  {
   "cell_type": "code",
   "execution_count": 1,
   "id": "3d4edae5-ec92-4d79-b5ba-0e9e4f594d57",
   "metadata": {},
   "outputs": [],
   "source": [
    "#import libraries and read in the data from file.\n",
    "import pandas as pd\n",
    "from scipy.stats import zscore\n",
    "import matplotlib.pyplot as plt\n",
    "import seaborn as sns\n",
    "import numpy as np\n",
    "# Assuming your CSV file is named 'data.csv', adjust the file path as needed\n",
    "file_path = '/home/dj/skewl/d208/churn_clean.csv'\n",
    "pd.set_option('display.max_columns', None)\n",
    "# Read the data from the CSV file into a DataFrame\n",
    "df = pd.read_csv(file_path)\n",
    "#drop index column\n",
    "df = df.loc[:, ~df.columns.str.contains('Unnamed')]"
   ]
  },
  {
   "cell_type": "code",
   "execution_count": 2,
   "id": "712701a4-8330-48de-8e80-888d28718a8e",
   "metadata": {},
   "outputs": [],
   "source": [
    "# helper functions\n",
    "\n",
    "#function to plot histogram univariate\n",
    "def plot_hist(col_name, num_bins, do_rotate=False):\n",
    "    plt.hist(df[col_name], bins=num_bins)\n",
    "    plt.xlabel(col_name)\n",
    "    plt.ylabel('Frequency')\n",
    "    plt.title(f'Histogram of {col_name}')\n",
    "    if do_rotate:\n",
    "        plt.xticks(rotation=90)\n",
    "    plt.show()\n",
    "\n",
    "def line_plot(indep):\n",
    "    # hexbin plot for continuous variables\n",
    "    plt.hexbin(df[indep], df['MonthlyCharge'], gridsize=10)\n",
    "    plt.colorbar()\n",
    "    plt.title('Hexbin Plot')\n",
    "    plt.xlabel(indep)\n",
    "    plt.ylabel('Churn')\n",
    "    plt.show()\n",
    "    \n",
    "def cross_tab(col2):\n",
    "    # Create a cross-tabulation of the two categorical variables\n",
    "    cross_tab = pd.crosstab(df['Churn'], df[col2])\n",
    "    # Plot the heatmap\n",
    "    sns.heatmap(cross_tab, annot=True, cmap='Blues')\n",
    "    plt.title(f'Heatmap of Churn and {col2}')\n",
    "    plt.xlabel(col2)\n",
    "    plt.ylabel('Churn')\n",
    "    plt.show()\n",
    "    \n",
    "def box_plot(indep):\n",
    "    # Box plot for categorical predictor and continuous outcome variable\n",
    "    df.boxplot(column=indep, by='Churn')\n",
    "    plt.title('Box Plot',y=.5)\n",
    "    plt.xlabel(\"Churn\")\n",
    "    plt.ylabel(indep)\n",
    "    plt.show()\n",
    "    \n",
    "def stacked_tab(col1):\n",
    "    # Create a cross-tabulation of the two categorical variables\n",
    "    cross_tab = pd.crosstab(df['Churn'], df[col1])\n",
    "    # Plot the stacked bar plot\n",
    "    cross_tab.plot.bar(stacked=True)\n",
    "    plt.figure(figsize=(10, 6))  \n",
    "    plt.title(f'Stacked Bar Plot of Chrun and {col1}')\n",
    "    plt.xlabel('Churn')\n",
    "    plt.ylabel('Frequency')\n",
    "    plt.show()"
   ]
  },
  {
   "cell_type": "markdown",
   "id": "7ed7eeef-c070-4666-aced-42f61bb80084",
   "metadata": {},
   "source": [
    "### identify duplicate rows by 'CaseOrder'"
   ]
  },
  {
   "cell_type": "code",
   "execution_count": 3,
   "id": "5a6e354c-c8e4-4176-823d-5dab5b6c84cb",
   "metadata": {},
   "outputs": [
    {
     "name": "stdout",
     "output_type": "stream",
     "text": [
      "0\n"
     ]
    }
   ],
   "source": [
    "# Find duplicate rows \n",
    "duplicate_rows = df.duplicated([\"CaseOrder\"]).sum()\n",
    "\n",
    "# Print duplicate rows   # found NO duplicate rows here!\n",
    "print(duplicate_rows)\n"
   ]
  },
  {
   "cell_type": "markdown",
   "id": "152926fd-f406-4d86-af23-38119a4b6f61",
   "metadata": {},
   "source": [
    "### identify missing values"
   ]
  },
  {
   "cell_type": "code",
   "execution_count": 4,
   "id": "624015c7-68c1-44c0-9a36-a22fa26c96fb",
   "metadata": {},
   "outputs": [
    {
     "name": "stdout",
     "output_type": "stream",
     "text": [
      "CaseOrder               0\n",
      "Customer_id             0\n",
      "Interaction             0\n",
      "UID                     0\n",
      "City                    0\n",
      "State                   0\n",
      "County                  0\n",
      "Zip                     0\n",
      "Lat                     0\n",
      "Lng                     0\n",
      "Population              0\n",
      "Area                    0\n",
      "TimeZone                0\n",
      "Job                     0\n",
      "Children                0\n",
      "Age                     0\n",
      "Income                  0\n",
      "Marital                 0\n",
      "Gender                  0\n",
      "Churn                   0\n",
      "Outage_sec_perweek      0\n",
      "Email                   0\n",
      "Contacts                0\n",
      "Yearly_equip_failure    0\n",
      "Techie                  0\n",
      "Contract                0\n",
      "Port_modem              0\n",
      "Tablet                  0\n",
      "InternetService         0\n",
      "Phone                   0\n",
      "Multiple                0\n",
      "OnlineSecurity          0\n",
      "OnlineBackup            0\n",
      "DeviceProtection        0\n",
      "TechSupport             0\n",
      "StreamingTV             0\n",
      "StreamingMovies         0\n",
      "PaperlessBilling        0\n",
      "PaymentMethod           0\n",
      "Tenure                  0\n",
      "MonthlyCharge           0\n",
      "Bandwidth_GB_Year       0\n",
      "Item1                   0\n",
      "Item2                   0\n",
      "Item3                   0\n",
      "Item4                   0\n",
      "Item5                   0\n",
      "Item6                   0\n",
      "Item7                   0\n",
      "Item8                   0\n",
      "dtype: int64\n"
     ]
    }
   ],
   "source": [
    "# Identify missing values using isna() method\n",
    "missing_values = df.isna().sum()\n",
    "# Print DataFrame with True for missing values and False for non-missing values\n",
    "print(missing_values)\n",
    "\n",
    "# no missing values here!"
   ]
  },
  {
   "cell_type": "markdown",
   "id": "45a9eede-7603-4c2d-9a54-bb77f905d428",
   "metadata": {},
   "source": [
    "### Check for outliers"
   ]
  },
  {
   "cell_type": "code",
   "execution_count": 5,
   "id": "665e8578-4e47-48fd-bcf1-6df2f866cd5c",
   "metadata": {},
   "outputs": [
    {
     "data": {
      "text/html": [
       "<div>\n",
       "<style scoped>\n",
       "    .dataframe tbody tr th:only-of-type {\n",
       "        vertical-align: middle;\n",
       "    }\n",
       "\n",
       "    .dataframe tbody tr th {\n",
       "        vertical-align: top;\n",
       "    }\n",
       "\n",
       "    .dataframe thead th {\n",
       "        text-align: right;\n",
       "    }\n",
       "</style>\n",
       "<table border=\"1\" class=\"dataframe\">\n",
       "  <thead>\n",
       "    <tr style=\"text-align: right;\">\n",
       "      <th></th>\n",
       "      <th>CaseOrder</th>\n",
       "      <th>Zip</th>\n",
       "      <th>Lat</th>\n",
       "      <th>Lng</th>\n",
       "      <th>Population</th>\n",
       "      <th>Children</th>\n",
       "      <th>Age</th>\n",
       "      <th>Income</th>\n",
       "      <th>Outage_sec_perweek</th>\n",
       "      <th>Email</th>\n",
       "      <th>Contacts</th>\n",
       "      <th>Yearly_equip_failure</th>\n",
       "      <th>Tenure</th>\n",
       "      <th>MonthlyCharge</th>\n",
       "      <th>Bandwidth_GB_Year</th>\n",
       "      <th>Item1</th>\n",
       "      <th>Item2</th>\n",
       "      <th>Item3</th>\n",
       "      <th>Item4</th>\n",
       "      <th>Item5</th>\n",
       "      <th>Item6</th>\n",
       "      <th>Item7</th>\n",
       "      <th>Item8</th>\n",
       "    </tr>\n",
       "  </thead>\n",
       "  <tbody>\n",
       "    <tr>\n",
       "      <th>count</th>\n",
       "      <td>10000.00000</td>\n",
       "      <td>10000.000000</td>\n",
       "      <td>10000.000000</td>\n",
       "      <td>10000.000000</td>\n",
       "      <td>10000.000000</td>\n",
       "      <td>10000.0000</td>\n",
       "      <td>10000.000000</td>\n",
       "      <td>10000.000000</td>\n",
       "      <td>10000.000000</td>\n",
       "      <td>10000.000000</td>\n",
       "      <td>10000.000000</td>\n",
       "      <td>10000.000000</td>\n",
       "      <td>10000.000000</td>\n",
       "      <td>10000.000000</td>\n",
       "      <td>10000.000000</td>\n",
       "      <td>10000.000000</td>\n",
       "      <td>10000.000000</td>\n",
       "      <td>10000.000000</td>\n",
       "      <td>10000.000000</td>\n",
       "      <td>10000.000000</td>\n",
       "      <td>10000.000000</td>\n",
       "      <td>10000.000000</td>\n",
       "      <td>10000.000000</td>\n",
       "    </tr>\n",
       "    <tr>\n",
       "      <th>mean</th>\n",
       "      <td>5000.50000</td>\n",
       "      <td>49153.319600</td>\n",
       "      <td>38.757567</td>\n",
       "      <td>-90.782536</td>\n",
       "      <td>9756.562400</td>\n",
       "      <td>2.0877</td>\n",
       "      <td>53.078400</td>\n",
       "      <td>39806.926771</td>\n",
       "      <td>10.001848</td>\n",
       "      <td>12.016000</td>\n",
       "      <td>0.994200</td>\n",
       "      <td>0.398000</td>\n",
       "      <td>34.526188</td>\n",
       "      <td>172.624816</td>\n",
       "      <td>3392.341550</td>\n",
       "      <td>3.490800</td>\n",
       "      <td>3.505100</td>\n",
       "      <td>3.487000</td>\n",
       "      <td>3.497500</td>\n",
       "      <td>3.492900</td>\n",
       "      <td>3.497300</td>\n",
       "      <td>3.509500</td>\n",
       "      <td>3.495600</td>\n",
       "    </tr>\n",
       "    <tr>\n",
       "      <th>std</th>\n",
       "      <td>2886.89568</td>\n",
       "      <td>27532.196108</td>\n",
       "      <td>5.437389</td>\n",
       "      <td>15.156142</td>\n",
       "      <td>14432.698671</td>\n",
       "      <td>2.1472</td>\n",
       "      <td>20.698882</td>\n",
       "      <td>28199.916702</td>\n",
       "      <td>2.976019</td>\n",
       "      <td>3.025898</td>\n",
       "      <td>0.988466</td>\n",
       "      <td>0.635953</td>\n",
       "      <td>26.443063</td>\n",
       "      <td>42.943094</td>\n",
       "      <td>2185.294852</td>\n",
       "      <td>1.037797</td>\n",
       "      <td>1.034641</td>\n",
       "      <td>1.027977</td>\n",
       "      <td>1.025816</td>\n",
       "      <td>1.024819</td>\n",
       "      <td>1.033586</td>\n",
       "      <td>1.028502</td>\n",
       "      <td>1.028633</td>\n",
       "    </tr>\n",
       "    <tr>\n",
       "      <th>min</th>\n",
       "      <td>1.00000</td>\n",
       "      <td>601.000000</td>\n",
       "      <td>17.966120</td>\n",
       "      <td>-171.688150</td>\n",
       "      <td>0.000000</td>\n",
       "      <td>0.0000</td>\n",
       "      <td>18.000000</td>\n",
       "      <td>348.670000</td>\n",
       "      <td>0.099747</td>\n",
       "      <td>1.000000</td>\n",
       "      <td>0.000000</td>\n",
       "      <td>0.000000</td>\n",
       "      <td>1.000259</td>\n",
       "      <td>79.978860</td>\n",
       "      <td>155.506715</td>\n",
       "      <td>1.000000</td>\n",
       "      <td>1.000000</td>\n",
       "      <td>1.000000</td>\n",
       "      <td>1.000000</td>\n",
       "      <td>1.000000</td>\n",
       "      <td>1.000000</td>\n",
       "      <td>1.000000</td>\n",
       "      <td>1.000000</td>\n",
       "    </tr>\n",
       "    <tr>\n",
       "      <th>25%</th>\n",
       "      <td>2500.75000</td>\n",
       "      <td>26292.500000</td>\n",
       "      <td>35.341828</td>\n",
       "      <td>-97.082812</td>\n",
       "      <td>738.000000</td>\n",
       "      <td>0.0000</td>\n",
       "      <td>35.000000</td>\n",
       "      <td>19224.717500</td>\n",
       "      <td>8.018214</td>\n",
       "      <td>10.000000</td>\n",
       "      <td>0.000000</td>\n",
       "      <td>0.000000</td>\n",
       "      <td>7.917694</td>\n",
       "      <td>139.979239</td>\n",
       "      <td>1236.470827</td>\n",
       "      <td>3.000000</td>\n",
       "      <td>3.000000</td>\n",
       "      <td>3.000000</td>\n",
       "      <td>3.000000</td>\n",
       "      <td>3.000000</td>\n",
       "      <td>3.000000</td>\n",
       "      <td>3.000000</td>\n",
       "      <td>3.000000</td>\n",
       "    </tr>\n",
       "    <tr>\n",
       "      <th>50%</th>\n",
       "      <td>5000.50000</td>\n",
       "      <td>48869.500000</td>\n",
       "      <td>39.395800</td>\n",
       "      <td>-87.918800</td>\n",
       "      <td>2910.500000</td>\n",
       "      <td>1.0000</td>\n",
       "      <td>53.000000</td>\n",
       "      <td>33170.605000</td>\n",
       "      <td>10.018560</td>\n",
       "      <td>12.000000</td>\n",
       "      <td>1.000000</td>\n",
       "      <td>0.000000</td>\n",
       "      <td>35.430507</td>\n",
       "      <td>167.484700</td>\n",
       "      <td>3279.536903</td>\n",
       "      <td>3.000000</td>\n",
       "      <td>4.000000</td>\n",
       "      <td>3.000000</td>\n",
       "      <td>3.000000</td>\n",
       "      <td>3.000000</td>\n",
       "      <td>3.000000</td>\n",
       "      <td>4.000000</td>\n",
       "      <td>3.000000</td>\n",
       "    </tr>\n",
       "    <tr>\n",
       "      <th>75%</th>\n",
       "      <td>7500.25000</td>\n",
       "      <td>71866.500000</td>\n",
       "      <td>42.106908</td>\n",
       "      <td>-80.088745</td>\n",
       "      <td>13168.000000</td>\n",
       "      <td>3.0000</td>\n",
       "      <td>71.000000</td>\n",
       "      <td>53246.170000</td>\n",
       "      <td>11.969485</td>\n",
       "      <td>14.000000</td>\n",
       "      <td>2.000000</td>\n",
       "      <td>1.000000</td>\n",
       "      <td>61.479795</td>\n",
       "      <td>200.734725</td>\n",
       "      <td>5586.141370</td>\n",
       "      <td>4.000000</td>\n",
       "      <td>4.000000</td>\n",
       "      <td>4.000000</td>\n",
       "      <td>4.000000</td>\n",
       "      <td>4.000000</td>\n",
       "      <td>4.000000</td>\n",
       "      <td>4.000000</td>\n",
       "      <td>4.000000</td>\n",
       "    </tr>\n",
       "    <tr>\n",
       "      <th>max</th>\n",
       "      <td>10000.00000</td>\n",
       "      <td>99929.000000</td>\n",
       "      <td>70.640660</td>\n",
       "      <td>-65.667850</td>\n",
       "      <td>111850.000000</td>\n",
       "      <td>10.0000</td>\n",
       "      <td>89.000000</td>\n",
       "      <td>258900.700000</td>\n",
       "      <td>21.207230</td>\n",
       "      <td>23.000000</td>\n",
       "      <td>7.000000</td>\n",
       "      <td>6.000000</td>\n",
       "      <td>71.999280</td>\n",
       "      <td>290.160419</td>\n",
       "      <td>7158.981530</td>\n",
       "      <td>7.000000</td>\n",
       "      <td>7.000000</td>\n",
       "      <td>8.000000</td>\n",
       "      <td>7.000000</td>\n",
       "      <td>7.000000</td>\n",
       "      <td>8.000000</td>\n",
       "      <td>7.000000</td>\n",
       "      <td>8.000000</td>\n",
       "    </tr>\n",
       "  </tbody>\n",
       "</table>\n",
       "</div>"
      ],
      "text/plain": [
       "         CaseOrder           Zip           Lat           Lng     Population  \\\n",
       "count  10000.00000  10000.000000  10000.000000  10000.000000   10000.000000   \n",
       "mean    5000.50000  49153.319600     38.757567    -90.782536    9756.562400   \n",
       "std     2886.89568  27532.196108      5.437389     15.156142   14432.698671   \n",
       "min        1.00000    601.000000     17.966120   -171.688150       0.000000   \n",
       "25%     2500.75000  26292.500000     35.341828    -97.082812     738.000000   \n",
       "50%     5000.50000  48869.500000     39.395800    -87.918800    2910.500000   \n",
       "75%     7500.25000  71866.500000     42.106908    -80.088745   13168.000000   \n",
       "max    10000.00000  99929.000000     70.640660    -65.667850  111850.000000   \n",
       "\n",
       "         Children           Age         Income  Outage_sec_perweek  \\\n",
       "count  10000.0000  10000.000000   10000.000000        10000.000000   \n",
       "mean       2.0877     53.078400   39806.926771           10.001848   \n",
       "std        2.1472     20.698882   28199.916702            2.976019   \n",
       "min        0.0000     18.000000     348.670000            0.099747   \n",
       "25%        0.0000     35.000000   19224.717500            8.018214   \n",
       "50%        1.0000     53.000000   33170.605000           10.018560   \n",
       "75%        3.0000     71.000000   53246.170000           11.969485   \n",
       "max       10.0000     89.000000  258900.700000           21.207230   \n",
       "\n",
       "              Email      Contacts  Yearly_equip_failure        Tenure  \\\n",
       "count  10000.000000  10000.000000          10000.000000  10000.000000   \n",
       "mean      12.016000      0.994200              0.398000     34.526188   \n",
       "std        3.025898      0.988466              0.635953     26.443063   \n",
       "min        1.000000      0.000000              0.000000      1.000259   \n",
       "25%       10.000000      0.000000              0.000000      7.917694   \n",
       "50%       12.000000      1.000000              0.000000     35.430507   \n",
       "75%       14.000000      2.000000              1.000000     61.479795   \n",
       "max       23.000000      7.000000              6.000000     71.999280   \n",
       "\n",
       "       MonthlyCharge  Bandwidth_GB_Year         Item1         Item2  \\\n",
       "count   10000.000000       10000.000000  10000.000000  10000.000000   \n",
       "mean      172.624816        3392.341550      3.490800      3.505100   \n",
       "std        42.943094        2185.294852      1.037797      1.034641   \n",
       "min        79.978860         155.506715      1.000000      1.000000   \n",
       "25%       139.979239        1236.470827      3.000000      3.000000   \n",
       "50%       167.484700        3279.536903      3.000000      4.000000   \n",
       "75%       200.734725        5586.141370      4.000000      4.000000   \n",
       "max       290.160419        7158.981530      7.000000      7.000000   \n",
       "\n",
       "              Item3         Item4         Item5         Item6         Item7  \\\n",
       "count  10000.000000  10000.000000  10000.000000  10000.000000  10000.000000   \n",
       "mean       3.487000      3.497500      3.492900      3.497300      3.509500   \n",
       "std        1.027977      1.025816      1.024819      1.033586      1.028502   \n",
       "min        1.000000      1.000000      1.000000      1.000000      1.000000   \n",
       "25%        3.000000      3.000000      3.000000      3.000000      3.000000   \n",
       "50%        3.000000      3.000000      3.000000      3.000000      4.000000   \n",
       "75%        4.000000      4.000000      4.000000      4.000000      4.000000   \n",
       "max        8.000000      7.000000      7.000000      8.000000      7.000000   \n",
       "\n",
       "              Item8  \n",
       "count  10000.000000  \n",
       "mean       3.495600  \n",
       "std        1.028633  \n",
       "min        1.000000  \n",
       "25%        3.000000  \n",
       "50%        3.000000  \n",
       "75%        4.000000  \n",
       "max        8.000000  "
      ]
     },
     "execution_count": 5,
     "metadata": {},
     "output_type": "execute_result"
    }
   ],
   "source": [
    "# check for outliers. Doesn't seem to be any outliers.\n",
    "df.describe()"
   ]
  },
  {
   "cell_type": "markdown",
   "id": "8cdbee59-6530-400e-ac4d-40b57bee6fd1",
   "metadata": {},
   "source": [
    "## 2.  Describe dependent and independent variables"
   ]
  },
  {
   "cell_type": "code",
   "execution_count": 6,
   "id": "e3d14d14-14ad-469b-a9ee-47580f418d29",
   "metadata": {},
   "outputs": [
    {
     "data": {
      "text/plain": [
       "count     10000\n",
       "unique        2\n",
       "top          No\n",
       "freq       7350\n",
       "Name: Churn, dtype: object"
      ]
     },
     "execution_count": 6,
     "metadata": {},
     "output_type": "execute_result"
    }
   ],
   "source": [
    "## dependent variable\n",
    "\n",
    "df['Churn'].describe()\n"
   ]
  },
  {
   "cell_type": "code",
   "execution_count": 7,
   "id": "8e3bc69d-2d6e-4ba5-80eb-3644c614566a",
   "metadata": {},
   "outputs": [
    {
     "data": {
      "text/plain": [
       "count      10000\n",
       "unique         3\n",
       "top       Female\n",
       "freq        5025\n",
       "Name: Gender, dtype: object"
      ]
     },
     "execution_count": 7,
     "metadata": {},
     "output_type": "execute_result"
    }
   ],
   "source": [
    "# independent variable\n",
    "df['Gender'].describe()\n"
   ]
  },
  {
   "cell_type": "code",
   "execution_count": 8,
   "id": "f84b8618-9f7a-46c8-957d-8dd25a342b29",
   "metadata": {},
   "outputs": [
    {
     "data": {
      "text/plain": [
       "count        10000\n",
       "unique           3\n",
       "top       Suburban\n",
       "freq          3346\n",
       "Name: Area, dtype: object"
      ]
     },
     "execution_count": 8,
     "metadata": {},
     "output_type": "execute_result"
    }
   ],
   "source": [
    "df['Area'].describe()"
   ]
  },
  {
   "cell_type": "code",
   "execution_count": 9,
   "id": "dbe5de0f-3a4c-4751-998f-87d7021856c5",
   "metadata": {},
   "outputs": [
    {
     "data": {
      "text/plain": [
       "count    10000.000000\n",
       "mean        53.078400\n",
       "std         20.698882\n",
       "min         18.000000\n",
       "25%         35.000000\n",
       "50%         53.000000\n",
       "75%         71.000000\n",
       "max         89.000000\n",
       "Name: Age, dtype: float64"
      ]
     },
     "execution_count": 9,
     "metadata": {},
     "output_type": "execute_result"
    }
   ],
   "source": [
    "df['Age'].describe()"
   ]
  },
  {
   "cell_type": "code",
   "execution_count": 10,
   "id": "8bc67b61-e314-466f-a199-0633f792861d",
   "metadata": {},
   "outputs": [
    {
     "data": {
      "text/plain": [
       "count     10000.000000\n",
       "mean      39806.926771\n",
       "std       28199.916702\n",
       "min         348.670000\n",
       "25%       19224.717500\n",
       "50%       33170.605000\n",
       "75%       53246.170000\n",
       "max      258900.700000\n",
       "Name: Income, dtype: float64"
      ]
     },
     "execution_count": 10,
     "metadata": {},
     "output_type": "execute_result"
    }
   ],
   "source": [
    "df['Income'].describe()"
   ]
  },
  {
   "cell_type": "code",
   "execution_count": 11,
   "id": "9c3f0e17-e8b5-4d97-8d5a-98d41c6d1a93",
   "metadata": {},
   "outputs": [
    {
     "data": {
      "text/plain": [
       "count    10000.000000\n",
       "mean        10.001848\n",
       "std          2.976019\n",
       "min          0.099747\n",
       "25%          8.018214\n",
       "50%         10.018560\n",
       "75%         11.969485\n",
       "max         21.207230\n",
       "Name: Outage_sec_perweek, dtype: float64"
      ]
     },
     "execution_count": 11,
     "metadata": {},
     "output_type": "execute_result"
    }
   ],
   "source": [
    "df['Outage_sec_perweek'].describe()"
   ]
  },
  {
   "cell_type": "code",
   "execution_count": 12,
   "id": "3cd967fa-edc2-47dc-81aa-22e2cb90a3f1",
   "metadata": {},
   "outputs": [
    {
     "data": {
      "text/plain": [
       "count           10000\n",
       "unique              3\n",
       "top       Fiber Optic\n",
       "freq             4408\n",
       "Name: InternetService, dtype: object"
      ]
     },
     "execution_count": 12,
     "metadata": {},
     "output_type": "execute_result"
    }
   ],
   "source": [
    "df['InternetService'].describe()"
   ]
  },
  {
   "cell_type": "code",
   "execution_count": 13,
   "id": "d5f4b594-1c29-4ae1-9afa-6e85cbcc505d",
   "metadata": {},
   "outputs": [
    {
     "data": {
      "text/plain": [
       "count     10000\n",
       "unique        2\n",
       "top         Yes\n",
       "freq       9067\n",
       "Name: Phone, dtype: object"
      ]
     },
     "execution_count": 13,
     "metadata": {},
     "output_type": "execute_result"
    }
   ],
   "source": [
    "df['Phone'].describe()"
   ]
  },
  {
   "cell_type": "code",
   "execution_count": 14,
   "id": "5878d35e-d8a3-4185-98b0-fe87ef508745",
   "metadata": {},
   "outputs": [
    {
     "data": {
      "text/plain": [
       "count     10000\n",
       "unique        2\n",
       "top          No\n",
       "freq       6424\n",
       "Name: OnlineSecurity, dtype: object"
      ]
     },
     "execution_count": 14,
     "metadata": {},
     "output_type": "execute_result"
    }
   ],
   "source": [
    "df['OnlineSecurity'].describe()"
   ]
  },
  {
   "cell_type": "code",
   "execution_count": 15,
   "id": "020a6dee-c818-4588-a8fa-e1cd48591208",
   "metadata": {},
   "outputs": [
    {
     "data": {
      "text/plain": [
       "count     10000\n",
       "unique        2\n",
       "top          No\n",
       "freq       5614\n",
       "Name: DeviceProtection, dtype: object"
      ]
     },
     "execution_count": 15,
     "metadata": {},
     "output_type": "execute_result"
    }
   ],
   "source": [
    "df['DeviceProtection'].describe()"
   ]
  },
  {
   "cell_type": "code",
   "execution_count": 16,
   "id": "28ccd231-16b6-4295-9190-af21804b95cc",
   "metadata": {},
   "outputs": [
    {
     "data": {
      "text/plain": [
       "count     10000\n",
       "unique        2\n",
       "top          No\n",
       "freq       5110\n",
       "Name: StreamingMovies, dtype: object"
      ]
     },
     "execution_count": 16,
     "metadata": {},
     "output_type": "execute_result"
    }
   ],
   "source": [
    "df['StreamingMovies'].describe()"
   ]
  },
  {
   "cell_type": "code",
   "execution_count": 17,
   "id": "115c4e85-e86d-4cda-ac5b-4813f62991e3",
   "metadata": {},
   "outputs": [
    {
     "data": {
      "text/plain": [
       "count     10000\n",
       "unique        2\n",
       "top          No\n",
       "freq       5494\n",
       "Name: OnlineBackup, dtype: object"
      ]
     },
     "execution_count": 17,
     "metadata": {},
     "output_type": "execute_result"
    }
   ],
   "source": [
    "df['OnlineBackup'].describe()"
   ]
  },
  {
   "cell_type": "markdown",
   "id": "d5def591-3438-44b8-8e4e-a0c3f5a6036f",
   "metadata": {},
   "source": [
    "## 3.  Generate univariate and bivariate visualizations of the distributions of the dependent and independent variables, including the dependent variable in your bivariate visualizations."
   ]
  },
  {
   "cell_type": "code",
   "execution_count": 18,
   "id": "dbd950a2-6cc8-4c56-8246-de89657ca443",
   "metadata": {},
   "outputs": [
    {
     "data": {
      "image/png": "[encoded data removed]",
      "text/plain": [
       "<Figure size 432x288 with 1 Axes>"
      ]
     },
     "metadata": {
      "needs_background": "light"
     },
     "output_type": "display_data"
    }
   ],
   "source": [
    "plot_hist('Churn',5)"
   ]
  },
  {
   "cell_type": "code",
   "execution_count": 19,
   "id": "62afb864-ffe3-47c6-b922-14682e418291",
   "metadata": {},
   "outputs": [
    {
     "data": {
      "image/png": "[encoded data removed]",
      "text/plain": [
       "<Figure size 432x288 with 1 Axes>"
      ]
     },
     "metadata": {
      "needs_background": "light"
     },
     "output_type": "display_data"
    }
   ],
   "source": [
    "plot_hist('Gender',5)"
   ]
  },
  {
   "cell_type": "code",
   "execution_count": 20,
   "id": "817f6d66-3d55-4487-855b-9111d744d800",
   "metadata": {},
   "outputs": [
    {
     "data": {
      "image/png": "[encoded data removed]",
      "text/plain": [
       "<Figure size 432x288 with 1 Axes>"
      ]
     },
     "metadata": {
      "needs_background": "light"
     },
     "output_type": "display_data"
    }
   ],
   "source": [
    "plot_hist('Area',5)"
   ]
  },
  {
   "cell_type": "code",
   "execution_count": 21,
   "id": "1dad9905-c789-43e3-b066-f54009d1af4b",
   "metadata": {},
   "outputs": [
    {
     "data": {
      "image/png": "[encoded data removed]",
      "text/plain": [
       "<Figure size 432x288 with 1 Axes>"
      ]
     },
     "metadata": {
      "needs_background": "light"
     },
     "output_type": "display_data"
    }
   ],
   "source": [
    "plot_hist('Age',100)"
   ]
  },
  {
   "cell_type": "code",
   "execution_count": 22,
   "id": "75eb1631-9cba-456a-a554-de7d8d178820",
   "metadata": {},
   "outputs": [
    {
     "data": {
      "image/png": "[encoded data removed]",
      "text/plain": [
       "<Figure size 432x288 with 1 Axes>"
      ]
     },
     "metadata": {
      "needs_background": "light"
     },
     "output_type": "display_data"
    }
   ],
   "source": [
    "plot_hist('Income',80)"
   ]
  },
  {
   "cell_type": "code",
   "execution_count": 23,
   "id": "76d3419a-ffa2-4f63-957f-56b51edd4647",
   "metadata": {},
   "outputs": [
    {
     "data": {
      "image/png": "[encoded data removed]",
      "text/plain": [
       "<Figure size 432x288 with 1 Axes>"
      ]
     },
     "metadata": {
      "needs_background": "light"
     },
     "output_type": "display_data"
    }
   ],
   "source": [
    "plot_hist('Outage_sec_perweek',50)"
   ]
  },
  {
   "cell_type": "code",
   "execution_count": 24,
   "id": "0460090d-210f-435d-abed-40a8d229ba4b",
   "metadata": {},
   "outputs": [
    {
     "data": {
      "image/png": "[encoded data removed]",
      "text/plain": [
       "<Figure size 432x288 with 1 Axes>"
      ]
     },
     "metadata": {
      "needs_background": "light"
     },
     "output_type": "display_data"
    }
   ],
   "source": [
    "plot_hist('InternetService',5)"
   ]
  },
  {
   "cell_type": "code",
   "execution_count": 25,
   "id": "d5e82843-4281-4e74-bbe0-38e62906d56a",
   "metadata": {},
   "outputs": [
    {
     "data": {
      "image/png": "[encoded data removed]",
      "text/plain": [
       "<Figure size 432x288 with 1 Axes>"
      ]
     },
     "metadata": {
      "needs_background": "light"
     },
     "output_type": "display_data"
    }
   ],
   "source": [
    "plot_hist('Phone',3)"
   ]
  },
  {
   "cell_type": "code",
   "execution_count": 26,
   "id": "9a247783-0482-4860-9b89-8ada6bc8b7ad",
   "metadata": {},
   "outputs": [
    {
     "data": {
      "image/png": "[encoded data removed]",
      "text/plain": [
       "<Figure size 432x288 with 1 Axes>"
      ]
     },
     "metadata": {
      "needs_background": "light"
     },
     "output_type": "display_data"
    }
   ],
   "source": [
    "plot_hist('OnlineSecurity',3)"
   ]
  },
  {
   "cell_type": "code",
   "execution_count": 27,
   "id": "6d69cbe1-4448-4ea4-bd9a-fa8cf862ec3d",
   "metadata": {},
   "outputs": [
    {
     "data": {
      "image/png": "[encoded data removed]",
      "text/plain": [
       "<Figure size 432x288 with 1 Axes>"
      ]
     },
     "metadata": {
      "needs_background": "light"
     },
     "output_type": "display_data"
    }
   ],
   "source": [
    "plot_hist('DeviceProtection',3)"
   ]
  },
  {
   "cell_type": "code",
   "execution_count": 28,
   "id": "7bed3833-8167-4a15-8712-76531a708a82",
   "metadata": {},
   "outputs": [
    {
     "data": {
      "image/png": "[encoded data removed]",
      "text/plain": [
       "<Figure size 432x288 with 1 Axes>"
      ]
     },
     "metadata": {
      "needs_background": "light"
     },
     "output_type": "display_data"
    }
   ],
   "source": [
    "plot_hist('StreamingMovies',3)"
   ]
  },
  {
   "cell_type": "code",
   "execution_count": 29,
   "id": "09b87dcd-6407-49cf-9c62-6059c3d77c4b",
   "metadata": {},
   "outputs": [
    {
     "data": {
      "image/png": "[encoded data removed]",
      "text/plain": [
       "<Figure size 432x288 with 1 Axes>"
      ]
     },
     "metadata": {
      "needs_background": "light"
     },
     "output_type": "display_data"
    }
   ],
   "source": [
    "plot_hist('OnlineBackup',3)"
   ]
  },
  {
   "cell_type": "markdown",
   "id": "e58f229b-0701-4329-8c8d-8ac38b7c90bf",
   "metadata": {},
   "source": [
    "## bivariate - graphing against the dependent variable"
   ]
  },
  {
   "cell_type": "code",
   "execution_count": 30,
   "id": "f9f0b8f8-aefd-448f-a7e9-b2e2b7febe2e",
   "metadata": {},
   "outputs": [
    {
     "data": {
      "image/png": "[encoded data removed]",
      "text/plain": [
       "<Figure size 432x288 with 2 Axes>"
      ]
     },
     "metadata": {
      "needs_background": "light"
     },
     "output_type": "display_data"
    }
   ],
   "source": [
    "cross_tab('Gender')"
   ]
  },
  {
   "cell_type": "code",
   "execution_count": 31,
   "id": "6ade7249-f12a-45eb-8c1a-bc56ff388976",
   "metadata": {},
   "outputs": [
    {
     "data": {
      "image/png": "[encoded data removed]",
      "text/plain": [
       "<Figure size 432x288 with 2 Axes>"
      ]
     },
     "metadata": {
      "needs_background": "light"
     },
     "output_type": "display_data"
    }
   ],
   "source": [
    "cross_tab('Area')"
   ]
  },
  {
   "cell_type": "code",
   "execution_count": 32,
   "id": "a5f53315-2afd-4a47-95a5-7c55e4774c76",
   "metadata": {},
   "outputs": [
    {
     "data": {
      "image/png": "[encoded data removed]",
      "text/plain": [
       "<Figure size 432x288 with 1 Axes>"
      ]
     },
     "metadata": {
      "needs_background": "light"
     },
     "output_type": "display_data"
    }
   ],
   "source": [
    "box_plot('Age')"
   ]
  },
  {
   "cell_type": "code",
   "execution_count": 33,
   "id": "9217f821-7697-472f-9de4-b095cff63096",
   "metadata": {},
   "outputs": [
    {
     "data": {
      "image/png": "[encoded data removed]",
      "text/plain": [
       "<Figure size 432x288 with 1 Axes>"
      ]
     },
     "metadata": {
      "needs_background": "light"
     },
     "output_type": "display_data"
    }
   ],
   "source": [
    "box_plot('Income')"
   ]
  },
  {
   "cell_type": "code",
   "execution_count": 34,
   "id": "96c44c2f-e6cb-4947-bbad-9571302c5d75",
   "metadata": {},
   "outputs": [
    {
     "data": {
      "image/png": "[encoded data removed]",
      "text/plain": [
       "<Figure size 432x288 with 1 Axes>"
      ]
     },
     "metadata": {
      "needs_background": "light"
     },
     "output_type": "display_data"
    }
   ],
   "source": [
    "box_plot('Outage_sec_perweek')"
   ]
  },
  {
   "cell_type": "code",
   "execution_count": 35,
   "id": "5c9a23a6-5378-4943-8792-541615a923bc",
   "metadata": {},
   "outputs": [
    {
     "data": {
      "image/png": "[encoded data removed]",
      "text/plain": [
       "<Figure size 432x288 with 2 Axes>"
      ]
     },
     "metadata": {
      "needs_background": "light"
     },
     "output_type": "display_data"
    }
   ],
   "source": [
    "cross_tab('InternetService')"
   ]
  },
  {
   "cell_type": "code",
   "execution_count": 36,
   "id": "eb097ce1-f97b-4202-8d89-44c1c3216bc1",
   "metadata": {},
   "outputs": [
    {
     "data": {
      "image/png": "[encoded data removed]",
      "text/plain": [
       "<Figure size 432x288 with 2 Axes>"
      ]
     },
     "metadata": {
      "needs_background": "light"
     },
     "output_type": "display_data"
    }
   ],
   "source": [
    "cross_tab('Phone')"
   ]
  },
  {
   "cell_type": "code",
   "execution_count": 37,
   "id": "965feec5-9b04-4e21-93b2-fabf10e60b67",
   "metadata": {},
   "outputs": [
    {
     "data": {
      "image/png": "[encoded data removed]",
      "text/plain": [
       "<Figure size 432x288 with 2 Axes>"
      ]
     },
     "metadata": {
      "needs_background": "light"
     },
     "output_type": "display_data"
    }
   ],
   "source": [
    "cross_tab('OnlineSecurity')"
   ]
  },
  {
   "cell_type": "code",
   "execution_count": 38,
   "id": "19870ec1-18b3-4aac-b177-706cef55378f",
   "metadata": {},
   "outputs": [
    {
     "data": {
      "image/png": "[encoded data removed]",
      "text/plain": [
       "<Figure size 432x288 with 2 Axes>"
      ]
     },
     "metadata": {
      "needs_background": "light"
     },
     "output_type": "display_data"
    }
   ],
   "source": [
    "cross_tab('DeviceProtection')"
   ]
  },
  {
   "cell_type": "code",
   "execution_count": 39,
   "id": "3d36dc67-8552-499b-8fca-9435c1258561",
   "metadata": {},
   "outputs": [
    {
     "data": {
      "image/png": "[encoded data removed]",
      "text/plain": [
       "<Figure size 432x288 with 2 Axes>"
      ]
     },
     "metadata": {
      "needs_background": "light"
     },
     "output_type": "display_data"
    }
   ],
   "source": [
    "cross_tab('StreamingMovies')"
   ]
  },
  {
   "cell_type": "code",
   "execution_count": 40,
   "id": "4cfb6314-3ab3-4dd3-9e2a-fca3a9f5ad3f",
   "metadata": {},
   "outputs": [
    {
     "data": {
      "image/png": "[encoded data removed]",
      "text/plain": [
       "<Figure size 432x288 with 2 Axes>"
      ]
     },
     "metadata": {
      "needs_background": "light"
     },
     "output_type": "display_data"
    }
   ],
   "source": [
    "cross_tab('OnlineBackup')"
   ]
  },
  {
   "cell_type": "markdown",
   "id": "b0f06a1b-3af3-4614-9825-592da96be454",
   "metadata": {},
   "source": [
    "### 4)\n",
    "My goals for data transformation are to one-hot encode the categorical variables and then normalize all values. The dependent variable 'churn' will be mapped\n",
    "to binary values as well. After this we will split the data into training and test sets."
   ]
  },
  {
   "cell_type": "code",
   "execution_count": 41,
   "id": "d1a152d6-63c7-4235-8282-c3df03b3f94b",
   "metadata": {},
   "outputs": [],
   "source": [
    "import statsmodels.api as sm\n",
    "from sklearn.model_selection import train_test_split\n",
    "from sklearn.preprocessing import MinMaxScaler\n",
    "#split continuous and categorical variables into separate dataframes\n",
    "dfcon = df[['Age','Income','Outage_sec_perweek']]\n",
    "dfcat = df[['Gender','Area','InternetService','Phone','OnlineSecurity','DeviceProtection','StreamingMovies','OnlineBackup']]\n",
    "#one-hot encode categorical data and drop first level of each\n",
    "dfcat_encoded = pd.get_dummies(dfcat,drop_first=True)\n",
    "#concatenate the columns\n",
    "data = pd.concat([dfcon, dfcat_encoded], axis=1)\n",
    "#normalize the data\n",
    "\n",
    "scaler = MinMaxScaler()\n",
    "df_normalized = pd.DataFrame(scaler.fit_transform(data), columns=data.columns)\n",
    "#write the prepared data to .csv file\n",
    "df_normalized.to_csv('prepared-data2.csv', index=False)\n",
    "# Convert categorical dependent variable to binary (0/1)\n",
    "churn_binary = df['Churn'].map({'No': 0, 'Yes': 1})\n",
    "independent_vars = sm.add_constant(df_normalized)\n",
    "x_train, x_test, y_train, y_test = train_test_split(independent_vars, churn_binary, test_size=0.2, random_state=42)"
   ]
  },
  {
   "cell_type": "markdown",
   "id": "cf0258d1-a99d-44aa-9027-d87fcb24b60d",
   "metadata": {},
   "source": [
    "## D. Compare an initial and a reduced linear regression model \n",
    "\n",
    "### 1. Construct an initial multiple linear regression model from all independent variables that were identified in part C2.\n",
    "\n"
   ]
  },
  {
   "cell_type": "code",
   "execution_count": 51,
   "id": "1a1b7c1b-d4d9-497c-88ee-347858969f89",
   "metadata": {},
   "outputs": [
    {
     "name": "stdout",
     "output_type": "stream",
     "text": [
      "Optimization terminated successfully.\n",
      "         Current function value: 0.526410\n",
      "         Iterations 6\n",
      "                           Logit Regression Results                           \n",
      "==============================================================================\n",
      "Dep. Variable:                  Churn   No. Observations:                 8000\n",
      "Model:                          Logit   Df Residuals:                     7985\n",
      "Method:                           MLE   Df Model:                           14\n",
      "Date:                Fri, 12 Apr 2024   Pseudo R-squ.:                 0.08677\n",
      "Time:                        08:02:03   Log-Likelihood:                -4211.3\n",
      "converged:                       True   LL-Null:                       -4611.4\n",
      "Covariance Type:            nonrobust   LLR p-value:                9.510e-162\n",
      "===============================================================================================\n",
      "                                  coef    std err          z      P>|z|      [0.025      0.975]\n",
      "-----------------------------------------------------------------------------------------------\n",
      "const                          -1.5842      0.158    -10.050      0.000      -1.893      -1.275\n",
      "Age                            -0.0241      0.092     -0.263      0.793      -0.204       0.156\n",
      "Income                          0.2137      0.241      0.886      0.376      -0.259       0.686\n",
      "Outage_sec_perweek             -0.0862      0.189     -0.455      0.649      -0.457       0.285\n",
      "Gender_Male                     0.1173      0.054      2.167      0.030       0.011       0.223\n",
      "Gender_Nonbinary               -0.0104      0.186     -0.056      0.955      -0.375       0.354\n",
      "Area_Suburban                   0.0115      0.065      0.176      0.861      -0.117       0.140\n",
      "Area_Urban                      0.0260      0.066      0.396      0.692      -0.103       0.155\n",
      "InternetService_Fiber Optic    -0.4363      0.060     -7.275      0.000      -0.554      -0.319\n",
      "InternetService_None           -0.4694      0.074     -6.364      0.000      -0.614      -0.325\n",
      "Phone_Yes                      -0.2390      0.088     -2.703      0.007      -0.412      -0.066\n",
      "OnlineSecurity_Yes             -0.0422      0.056     -0.754      0.451      -0.152       0.067\n",
      "DeviceProtection_Yes            0.2359      0.054      4.394      0.000       0.131       0.341\n",
      "StreamingMovies_Yes             1.4019      0.056     24.895      0.000       1.292       1.512\n",
      "OnlineBackup_Yes                0.2425      0.054      4.519      0.000       0.137       0.348\n",
      "===============================================================================================\n"
     ]
    }
   ],
   "source": [
    "#Initial Model\n",
    "independent_vars = sm.add_constant(df_normalized)\n",
    "x_train, x_test, y_train, y_test = train_test_split(independent_vars, churn_binary, test_size=0.2, random_state=42)\n",
    "model = sm.Logit(y_train,  x_train).fit()\n",
    "print(model.summary())"
   ]
  },
  {
   "cell_type": "markdown",
   "id": "ee78e1f6-dbb9-4172-ad74-17abcd5c0f85",
   "metadata": {},
   "source": [
    "## 2.  &nbsp;&nbsp;&nbsp;   Justify a statistically based feature selection procedure or a model evaluation metric to reduce the initial model in a way that aligns with the research question.\n",
    "\n",
    "\n",
    "&nbsp;&nbsp;&nbsp;  I have chosen to use backward elimination of predictor variables as my feature selection procedure. This is so I can iteratively choose which predictor variables I want to keep based on p values. This is an effective way to reduce the model because I  may choose to keep some predictor variables that may not necessarily meet standard thresholds of p < .05. This will enable me to more precisely answer the research question by identifying the effect of these predictor variables on the outcome variable even though they may not meet the p > .05 criteria. So even though the predictors may have a slightly larger p value we can still answer questions about how a variable correlates to 'Churn'. We not only want to predict future values of 'Churn' but also know how a given predictor variable will correlate with things like the magnitude and sign of the coefficient so it may be wise to include them in the model. Also a predictor variable may have a good p value but won't be practically significant. With this feature selection method I have more control to actually get meaningful information about what the correlations are to 'Churn'. I chose to keep 'Income' as an independent variable so I have at least one continuous in the model.\n",
    "\n",
    "&nbsp;&nbsp;&nbsp;  I have chosen to use the log likelihood  for a model evaluation metric because it measures the  'goodness of fit' of the model, as well as the likelihood that the model will predict the correct outcome\n"
   ]
  },
  {
   "cell_type": "markdown",
   "id": "b96b16f6-9969-4d51-a856-6e5e1bd81127",
   "metadata": {},
   "source": [
    "### 3.   Provide a reduced linear regression model that follows the feature selection or model evaluation process in part D2, including a screenshot of the output for each model."
   ]
  },
  {
   "cell_type": "code",
   "execution_count": 49,
   "id": "f5ec8721-1e6e-40e8-ae95-ba9877f9c0d7",
   "metadata": {},
   "outputs": [
    {
     "name": "stdout",
     "output_type": "stream",
     "text": [
      "Optimization terminated successfully.\n",
      "         Current function value: 0.526410\n",
      "         Iterations 6\n",
      "                           Logit Regression Results                           \n",
      "==============================================================================\n",
      "Dep. Variable:                  Churn   No. Observations:                 8000\n",
      "Model:                          Logit   Df Residuals:                     7985\n",
      "Method:                           MLE   Df Model:                           14\n",
      "Date:                Fri, 12 Apr 2024   Pseudo R-squ.:                 0.08677\n",
      "Time:                        08:01:45   Log-Likelihood:                -4211.3\n",
      "converged:                       True   LL-Null:                       -4611.4\n",
      "Covariance Type:            nonrobust   LLR p-value:                9.510e-162\n",
      "===============================================================================================\n",
      "                                  coef    std err          z      P>|z|      [0.025      0.975]\n",
      "-----------------------------------------------------------------------------------------------\n",
      "const                          -1.5842      0.158    -10.050      0.000      -1.893      -1.275\n",
      "Age                            -0.0241      0.092     -0.263      0.793      -0.204       0.156\n",
      "Income                          0.2137      0.241      0.886      0.376      -0.259       0.686\n",
      "Outage_sec_perweek             -0.0862      0.189     -0.455      0.649      -0.457       0.285\n",
      "Gender_Male                     0.1173      0.054      2.167      0.030       0.011       0.223\n",
      "Gender_Nonbinary               -0.0104      0.186     -0.056      0.955      -0.375       0.354\n",
      "Area_Suburban                   0.0115      0.065      0.176      0.861      -0.117       0.140\n",
      "Area_Urban                      0.0260      0.066      0.396      0.692      -0.103       0.155\n",
      "InternetService_Fiber Optic    -0.4363      0.060     -7.275      0.000      -0.554      -0.319\n",
      "InternetService_None           -0.4694      0.074     -6.364      0.000      -0.614      -0.325\n",
      "Phone_Yes                      -0.2390      0.088     -2.703      0.007      -0.412      -0.066\n",
      "OnlineSecurity_Yes             -0.0422      0.056     -0.754      0.451      -0.152       0.067\n",
      "DeviceProtection_Yes            0.2359      0.054      4.394      0.000       0.131       0.341\n",
      "StreamingMovies_Yes             1.4019      0.056     24.895      0.000       1.292       1.512\n",
      "OnlineBackup_Yes                0.2425      0.054      4.519      0.000       0.137       0.348\n",
      "===============================================================================================\n"
     ]
    }
   ],
   "source": [
    "#original model\n",
    "independent_vars = sm.add_constant(df_normalized)\n",
    "x_train, x_test, y_train, y_test = train_test_split(independent_vars, churn_binary, test_size=0.2, random_state=42)\n",
    "model = sm.Logit(y_train, x_train).fit()\n",
    "print(model.summary())\n",
    "\n"
   ]
  },
  {
   "cell_type": "markdown",
   "id": "abc9508f-d530-42a3-9c56-6318f95537ad",
   "metadata": {},
   "source": [
    "## Reduced model"
   ]
  },
  {
   "cell_type": "code",
   "execution_count": 55,
   "id": "de999671-c6c6-4ad1-a729-4528339a9085",
   "metadata": {},
   "outputs": [
    {
     "name": "stdout",
     "output_type": "stream",
     "text": [
      "Optimization terminated successfully.\n",
      "         Current function value: 0.526773\n",
      "         Iterations 6\n",
      "                           Logit Regression Results                           \n",
      "==============================================================================\n",
      "Dep. Variable:                  Churn   No. Observations:                 8000\n",
      "Model:                          Logit   Df Residuals:                     7992\n",
      "Method:                           MLE   Df Model:                            7\n",
      "Date:                Fri, 12 Apr 2024   Pseudo R-squ.:                 0.08614\n",
      "Time:                        08:04:15   Log-Likelihood:                -4214.2\n",
      "converged:                       True   LL-Null:                       -4611.4\n",
      "Covariance Type:            nonrobust   LLR p-value:                2.851e-167\n",
      "===============================================================================================\n",
      "                                  coef    std err          z      P>|z|      [0.025      0.975]\n",
      "-----------------------------------------------------------------------------------------------\n",
      "const                          -1.5785      0.110    -14.310      0.000      -1.795      -1.362\n",
      "Income                          0.1992      0.241      0.827      0.408      -0.273       0.672\n",
      "InternetService_Fiber Optic    -0.4370      0.060     -7.291      0.000      -0.554      -0.320\n",
      "InternetService_None           -0.4675      0.074     -6.345      0.000      -0.612      -0.323\n",
      "Phone_Yes                      -0.2397      0.088     -2.713      0.007      -0.413      -0.067\n",
      "DeviceProtection_Yes            0.2372      0.054      4.423      0.000       0.132       0.342\n",
      "StreamingMovies_Yes             1.4008      0.056     24.895      0.000       1.290       1.511\n",
      "OnlineBackup_Yes                0.2401      0.054      4.481      0.000       0.135       0.345\n",
      "===============================================================================================\n"
     ]
    }
   ],
   "source": [
    "\n",
    "#Reduced model\n",
    "df_reduced = df_normalized.copy()\n",
    "del df_reduced['Area_Urban']\n",
    "del df_reduced['Area_Suburban']\n",
    "del df_reduced['Age']\n",
    "del df_reduced['Gender_Male']\n",
    "del df_reduced['Outage_sec_perweek']\n",
    "del df_reduced['Gender_Nonbinary']\n",
    "del df_reduced['OnlineSecurity_Yes']\n",
    "df_reduced = sm.add_constant(df_reduced)\n",
    "x_train, x_test, y_train, y_test = train_test_split(df_reduced, churn_binary, test_size=0.2, random_state=42)\n",
    "model = sm.Logit(y_train, x_train).fit()\n",
    "print(model.summary())"
   ]
  },
  {
   "cell_type": "markdown",
   "id": "4b2af130-cd25-4e74-9184-46b048c84012",
   "metadata": {},
   "source": [
    "## E.\n",
    "### 1.Explain your data analysis process by comparing the initial logistic regression model and reduced logistic regression model\n",
    "\n",
    "   My model evaluation metrics are log-likelihood and psuedo r squared. I used backwards elimination by P value to reduce the model. Since I had predictor variables that had large coefficients, the psuedo R squared value was about the same in both models. Log-likelihood didn't change much either. This is because the predictor variables with the largest coefficients and smallest P values were not removed. \n",
    "   \n",
    "\n",
    "   Original log-likelihood = -4211.3\n",
    "\n",
    "   Reduced model log-likelihood = -4214.2\n",
    "  \n",
    "   Original psuedo R squared = .08677\n",
    "\n",
    "   Reduced model psuedo R squared = .08614\n",
    "\n",
    "   The reduced model is just slightly worse in terms of log-likelihood and psuedo R squared metric. The difference is very small and the model has much fewer independent variables, so this may be a worthwhile trade off.\n",
    "\n",
    "   \n",
    "\n",
    "   \n",
    "## 2.  Provide the output and all calculations of the analysis you performed, including the following elements for your reduced logistic regression model"
   ]
  },
  {
   "cell_type": "code",
   "execution_count": 56,
   "id": "a151073a-2c0d-4635-aa06-7d0d636e1173",
   "metadata": {},
   "outputs": [
    {
     "name": "stdout",
     "output_type": "stream",
     "text": [
      "Optimization terminated successfully.\n",
      "         Current function value: 0.526773\n",
      "         Iterations 6\n",
      "                           Logit Regression Results                           \n",
      "==============================================================================\n",
      "Dep. Variable:                  Churn   No. Observations:                 8000\n",
      "Model:                          Logit   Df Residuals:                     7992\n",
      "Method:                           MLE   Df Model:                            7\n",
      "Date:                Fri, 12 Apr 2024   Pseudo R-squ.:                 0.08614\n",
      "Time:                        08:04:26   Log-Likelihood:                -4214.2\n",
      "converged:                       True   LL-Null:                       -4611.4\n",
      "Covariance Type:            nonrobust   LLR p-value:                2.851e-167\n",
      "===============================================================================================\n",
      "                                  coef    std err          z      P>|z|      [0.025      0.975]\n",
      "-----------------------------------------------------------------------------------------------\n",
      "const                          -1.5785      0.110    -14.310      0.000      -1.795      -1.362\n",
      "Income                          0.1992      0.241      0.827      0.408      -0.273       0.672\n",
      "InternetService_Fiber Optic    -0.4370      0.060     -7.291      0.000      -0.554      -0.320\n",
      "InternetService_None           -0.4675      0.074     -6.345      0.000      -0.612      -0.323\n",
      "Phone_Yes                      -0.2397      0.088     -2.713      0.007      -0.413      -0.067\n",
      "DeviceProtection_Yes            0.2372      0.054      4.423      0.000       0.132       0.342\n",
      "StreamingMovies_Yes             1.4008      0.056     24.895      0.000       1.290       1.511\n",
      "OnlineBackup_Yes                0.2401      0.054      4.481      0.000       0.135       0.345\n",
      "===============================================================================================\n"
     ]
    }
   ],
   "source": [
    "#calculations to reduce original model\n",
    "df_reduced = df_normalized.copy()\n",
    "del df_reduced['Area_Urban']\n",
    "del df_reduced['Area_Suburban']\n",
    "del df_reduced['Age']\n",
    "del df_reduced['Gender_Male']\n",
    "del df_reduced['Gender_Nonbinary']\n",
    "del df_reduced['OnlineSecurity_Yes']\n",
    "del df_reduced['Outage_sec_perweek']\n",
    "df_reduced = sm.add_constant(df_reduced)\n",
    "x_train, x_test, y_train, y_test = train_test_split(df_reduced, churn_binary, test_size=0.2, random_state=42)\n",
    "model = sm.Logit(y_train, x_train).fit()\n",
    "print(model.summary())"
   ]
  },
  {
   "cell_type": "markdown",
   "id": "4545e1b6-dcb7-41bf-8722-69e5f3718595",
   "metadata": {},
   "source": [
    "##  confusion matrix and accuracy calculation"
   ]
  },
  {
   "cell_type": "code",
   "execution_count": 53,
   "id": "60bc424d-7718-4393-828b-d6c4265dec7b",
   "metadata": {},
   "outputs": [
    {
     "name": "stdout",
     "output_type": "stream",
     "text": [
      "Confusion Matrix:\n",
      "[[1415   41]\n",
      " [ 497   47]]\n",
      "=======================\n",
      "accuracy=  0.731\n"
     ]
    }
   ],
   "source": [
    "\n",
    "from sklearn.linear_model import LogisticRegression\n",
    "from sklearn.metrics import confusion_matrix\n",
    "from sklearn.metrics import accuracy_score\n",
    "#get predictions\n",
    "y_pred = model.predict(x_test)\n",
    "\n",
    "# Compute confusion matrix\n",
    "y_pred = (y_pred >= .5).astype(int)\n",
    "conf_matrix = confusion_matrix(y_test, y_pred)\n",
    "\n",
    "print(\"Confusion Matrix:\")\n",
    "print(conf_matrix)\n",
    "print('=======================')\n",
    "print(f\"accuracy=  {accuracy_score(y_test, y_pred, normalize=True)}\")"
   ]
  },
  {
   "cell_type": "markdown",
   "id": "a2469f84-6cf2-4996-bfda-7c61fef8810a",
   "metadata": {},
   "source": [
    "## 3. code will  be submitted with assignment."
   ]
  },
  {
   "cell_type": "markdown",
   "id": "790c33fc-6f63-4c3b-ab0a-e2604d9aadad",
   "metadata": {},
   "source": [
    "## F.\n",
    "### 1.  Discuss the results of your data analysis\n",
    "\n",
    "#### regression equation :\n",
    "log(p/1-p) = -1.7528 + (-0.4358)(X) + (-0.4681)(X) + (-0.0393)(x) + 0.2418(x) + 1.4010(X) + 0.2402(X)\n",
    "\n",
    "#### Interpretation of coefficients:\n",
    "   \n",
    "    The coefficient itself is the magnitude which represents the strength of the relationship.\n",
    "    \n",
    "     The sign tells us if the relationship is negative or positive to the log odds of the dependent variable.\n",
    "\n",
    "     All these coefficients have p values < .05 so they are statistically significant.\n",
    "        \n",
    "                                             coef    std err          z      P>|z|      [0.025      0.975]\n",
    "    -----------------------------------------------------------------------------------------------\n",
    "    const                          -1.7973      0.076    -23.696      0.000      -1.946      -1.649\n",
    "    Income                          0.2001      0.241      0.831      0.406      -0.272       0.672\n",
    "    InternetService_Fiber Optic    -0.4352      0.060     -7.265      0.000      -0.553      -0.318\n",
    "    InternetService_None           -0.4671      0.074     -6.342      0.000      -0.611      -0.323\n",
    "    DeviceProtection_Yes            0.2405      0.054      4.490      0.000       0.136       0.346\n",
    "    StreamingMovies_Yes             1.4004      0.056     24.903      0.000       1.290       1.511\n",
    "    OnlineBackup_Yes                0.2409      0.054      4.498      0.000       0.136       0.346\n",
    "    ===============================================================================================\n",
    "            \n",
    "\n",
    "### All other predictors must be constant for these rules to work.\n",
    "\n",
    "   ### For continuous predictors:\n",
    "\n",
    "### A one-unit increase in the independent variable is associated with a change in the log odds of the outcome equal to the coefficient value.\n",
    "\n",
    "   ### For categorical predictors (dummy variables):\n",
    " \n",
    "### The coefficient represents the difference in log odds between the reference category (usually the category with the value of 0) and the category represented by the dummy variable.\n",
    "\n",
    "    const is the y intercept.\n",
    "    \n",
    "    A one unit increase in 'Income' will result in a change in the log odds equal to the coefficient .1990.\n",
    "    \n",
    "    Observing 'InternetService_Fiber_Optic' True will result in the difference in the log odds of it's coefficient and the reference category coefficient being applied to the log odds of the dependent variable.\n",
    "\n",
    "     Observing 'InternetService_None' True will result in the difference in the log odds of it's coefficient and the reference category coefficient being applied to the log odds of the dependent variable.\n",
    "     \n",
    "    Observing 'DeviceProtection_yes' True will result in the difference in the log odds of it's coefficient and the reference category coefficient being applied to the log odds of the dependent variable.\n",
    "\n",
    "     Observing 'Streaming_Movies_Yes' True will result in the difference in the log odds of it's coefficient and the reference category coefficient being applied to the log odds of the dependent variable.\n",
    "     \n",
    "     Observing 'Online_Backup_Yes' True will result in the difference in the log odds of it's coefficient and the reference category coefficient being applied to the log odds of the dependent variable.\n",
    "\n",
    "\n",
    "    \n",
    "### significance\n",
    "\n",
    "  I think that the practical significance of this reduced model is moderate. By reading the coefficients in the regression equation we can identify some factors that correlate to a higher probability of churn. We can also see a few factors that correlate to a lower rate of churn. The accuracy is .73 so the model is predicting outcomes correctly in the test set.\n",
    "  \n",
    "The statistical significance here appears good by looking at psuedo R squared and log-likelihood. However I don't think this is a very good model because if you look at the confusion matrix, you can see that it almost had as many false positives as it predicted true positives. I think this may have been caused by the data set it self being skewed. The 'Churn' variable in this data set is mostly false. This looks like it is causing the model to have difficulty predicting 'churn'. I think this could be done better maybe with more data or some different variables. I really don't like the confusion matrix. The accuracy is .73 but it is misleading because those are all true negatives as because most of the 'churn' variable is set to false.\n",
    "  \n",
    "#### Limitations.\n",
    "   Some of the limitations of this analysis are that the model is only predicting true negatives with with any accuracy. The ability to predict true positives is almost less than half the predictions. Also I think there is not a clear linear relationship between the predictors and the outcome. That makes the model have lower accuracy. I think that is reflected in the confusion matrix. \n",
    "\n",
    "### 2.   \n",
    "\n",
    "   My recommendations based on this analysis are that the organization should allocate resources to the sales team to upsell more fiber optic Internet, Online security and focus less on device protection and streaming movies. This is based on the coefficients of the logistic regression equation. \n",
    "\n",
    "\n"
   ]
  },
  {
   "cell_type": "markdown",
   "id": "faf09c76-61ed-4db2-8c15-40213f203c57",
   "metadata": {},
   "source": [
    "### Citations\n",
    "\n",
    "Assumptions of multiple linear regression (2024) Statistics Solutions. Available at: https://www.statisticssolutions.com/free-resources/directory-of-statistical-analyses/assumptions-of-multiple-linear-regression/ (Accessed: 11 April 2024). \n",
    "\n",
    "\n",
    "Dansbecker (2018) Using categorical data with one hot encoding, Kaggle. Available at: https://www.kaggle.com/code/dansbecker/using-categorical-data-with-one-hot-encoding (Accessed: 11 April 2024). \n",
    "\n",
    "Sklearn.metrics.confusion_matrix (no date) scikit. Available at: https://scikit-learn.org/stable/modules/generated/sklearn.metrics.confusion_matrix.html#sklearn.metrics.confusion_matrix (Accessed: 12 April 2024). \n",
    "\n",
    "Explore the core of logistic regression assumptions (2023) Voxco. Available at: https://www.voxco.com/blog/logistic-regression-assumptions/ (Accessed: 11 April 2024). \n",
    "\n",
    "How to replace column values in a pandas DataFrame (2023) Saturn Cloud Blog. Available at: https://saturncloud.io/blog/how-to-replace-column-values-in-a-pandas-dataframe/ (Accessed: 06 April 2024). "
   ]
  },
  {
   "cell_type": "code",
   "execution_count": 47,
   "id": "d47ce9aa-6b06-465c-8b6c-170000639094",
   "metadata": {},
   "outputs": [
    {
     "name": "stdout",
     "output_type": "stream",
     "text": [
      "3.10.12 (main, Nov 20 2023, 15:14:05) [GCC 11.4.0]\n"
     ]
    }
   ],
   "source": [
    "import sys\n",
    "print(sys.version)\n"
   ]
  },
  {
   "cell_type": "code",
   "execution_count": null,
   "id": "d351587c-f995-466b-8ec3-7d591a081d05",
   "metadata": {},
   "outputs": [],
   "source": []
  }
 ],
 "metadata": {
  "kernelspec": {
   "display_name": "Python 3 (ipykernel)",
   "language": "python",
   "name": "python3"
  },
  "language_info": {
   "codemirror_mode": {
    "name": "ipython",
    "version": 3
   },
   "file_extension": ".py",
   "mimetype": "text/x-python",
   "name": "python",
   "nbconvert_exporter": "python",
   "pygments_lexer": "ipython3",
   "version": "3.10.12"
  }
 },
 "nbformat": 4,
 "nbformat_minor": 5
}
